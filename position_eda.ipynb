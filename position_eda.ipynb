{
 "cells": [
  {
   "cell_type": "code",
   "execution_count": 1,
   "metadata": {
    "collapsed": false
   },
   "outputs": [],
   "source": [
    "import pandas as pd\n",
    "import numpy as np\n",
    "from scipy.stats import pearsonr \n",
    "import matplotlib.pyplot as plt"
   ]
  },
  {
   "cell_type": "code",
   "execution_count": 2,
   "metadata": {
    "collapsed": false
   },
   "outputs": [],
   "source": [
    "df = pd.read_csv('data/residuals.csv')"
   ]
  },
  {
   "cell_type": "code",
   "execution_count": null,
   "metadata": {
    "collapsed": true
   },
   "outputs": [],
   "source": [
    "merged_df = pd.read_csv('data/merged_data.csv')"
   ]
  },
  {
   "cell_type": "code",
   "execution_count": 3,
   "metadata": {
    "collapsed": false
   },
   "outputs": [],
   "source": [
    "df['R'].fillna(0, inplace = True)"
   ]
  },
  {
   "cell_type": "code",
   "execution_count": 4,
   "metadata": {
    "collapsed": false
   },
   "outputs": [],
   "source": [
    "def add_rolling_mean(df):\n",
    "    df['RollingMean'] = df['R'].rolling(window = 30).mean().shift(1)\n",
    "    return df\n",
    "\n",
    "df = df.groupby(['Opp', 'LineupOrder']).apply(add_rolling_mean)"
   ]
  },
  {
   "cell_type": "code",
   "execution_count": null,
   "metadata": {
    "collapsed": false
   },
   "outputs": [],
   "source": [
    "df[(df.Opp == 'GSW') & (df.LineupOrder == 3)]"
   ]
  },
  {
   "cell_type": "code",
   "execution_count": null,
   "metadata": {
    "collapsed": false
   },
   "outputs": [
    {
     "name": "stdout",
     "output_type": "stream",
     "text": [
      "Correlation between RollingMean and R (0.052221906305531751, 6.2757373465013804e-113)\n",
      "Proportion of data points that are NaN:  0.0288589033617\n"
     ]
    }
   ],
   "source": [
    "def scatter_plot_eda(df, x, y, subset):\n",
    "    # Select columns of interest and remove any NaN\n",
    "    df2 = df[[x, y]]\n",
    "    df2 = df2[np.isfinite(df2.iloc[:,0])]\n",
    "\n",
    "    # Find linear correlation\n",
    "    print \"Correlation between \" + x + \\\n",
    "          \" and \" + y, pearsonr(df2.iloc[:,0], df2.iloc[:,1])\n",
    "\n",
    "    # Find proportion of data points NaN\n",
    "    print \"Proportion of data points that are NaN: \", 1 - (float(len(df2)) / len(df))\n",
    "\n",
    "    # Scatter a random selection of 200 points\n",
    "    random_indices = np.random.randint(0,len(df2),200)\n",
    "    plt.scatter(df2.iloc[random_indices,0], df2.iloc[random_indices,1])\n",
    "    plt.xlabel(df2.columns.values[0])\n",
    "    plt.ylabel(df2.columns.values[1])\n",
    "    plt.title('Subset: ' + subset)\n",
    "    plt.show()\n",
    "\n",
    "scatter_plot_eda(df, 'RollingMean', 'R', 'cat')"
   ]
  },
  {
   "cell_type": "code",
   "execution_count": null,
   "metadata": {
    "collapsed": true
   },
   "outputs": [],
   "source": []
  }
 ],
 "metadata": {
  "kernelspec": {
   "display_name": "Python [Root]",
   "language": "python",
   "name": "Python [Root]"
  },
  "language_info": {
   "codemirror_mode": {
    "name": "ipython",
    "version": 2
   },
   "file_extension": ".py",
   "mimetype": "text/x-python",
   "name": "python",
   "nbconvert_exporter": "python",
   "pygments_lexer": "ipython2",
   "version": "2.7.12"
  }
 },
 "nbformat": 4,
 "nbformat_minor": 0
}
