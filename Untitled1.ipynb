{
 "cells": [
  {
   "cell_type": "code",
   "execution_count": 1,
   "metadata": {
    "collapsed": true
   },
   "outputs": [],
   "source": [
    "import pandas as pd\n",
    "import matplotlib.pyplot as plt"
   ]
  },
  {
   "cell_type": "code",
   "execution_count": 20,
   "metadata": {
    "collapsed": true
   },
   "outputs": [],
   "source": [
    "df = pd.read_csv('data/residuals.csv')\n",
    "merged_df = pd.read_csv('data/merged_data.csv')"
   ]
  },
  {
   "cell_type": "code",
   "execution_count": 23,
   "metadata": {
    "collapsed": false
   },
   "outputs": [
    {
     "ename": "AttributeError",
     "evalue": "'DataFrame' object has no attribute 'R'",
     "output_type": "error",
     "traceback": [
      "\u001b[0;31m---------------------------------------------------------------------------\u001b[0m",
      "\u001b[0;31mAttributeError\u001b[0m                            Traceback (most recent call last)",
      "\u001b[0;32m<ipython-input-23-c3ce9428b455>\u001b[0m in \u001b[0;36m<module>\u001b[0;34m()\u001b[0m\n\u001b[0;32m----> 1\u001b[0;31m \u001b[0;32mprint\u001b[0m \u001b[0mmerged_df\u001b[0m\u001b[0;34m.\u001b[0m\u001b[0mR\u001b[0m\u001b[0;34m\u001b[0m\u001b[0m\n\u001b[0m",
      "\u001b[0;32m//anaconda/lib/python2.7/site-packages/pandas/core/generic.pyc\u001b[0m in \u001b[0;36m__getattr__\u001b[0;34m(self, name)\u001b[0m\n\u001b[1;32m   2670\u001b[0m             \u001b[0;32mif\u001b[0m \u001b[0mname\u001b[0m \u001b[0;32min\u001b[0m \u001b[0mself\u001b[0m\u001b[0;34m.\u001b[0m\u001b[0m_info_axis\u001b[0m\u001b[0;34m:\u001b[0m\u001b[0;34m\u001b[0m\u001b[0m\n\u001b[1;32m   2671\u001b[0m                 \u001b[0;32mreturn\u001b[0m \u001b[0mself\u001b[0m\u001b[0;34m[\u001b[0m\u001b[0mname\u001b[0m\u001b[0;34m]\u001b[0m\u001b[0;34m\u001b[0m\u001b[0m\n\u001b[0;32m-> 2672\u001b[0;31m             \u001b[0;32mreturn\u001b[0m \u001b[0mobject\u001b[0m\u001b[0;34m.\u001b[0m\u001b[0m__getattribute__\u001b[0m\u001b[0;34m(\u001b[0m\u001b[0mself\u001b[0m\u001b[0;34m,\u001b[0m \u001b[0mname\u001b[0m\u001b[0;34m)\u001b[0m\u001b[0;34m\u001b[0m\u001b[0m\n\u001b[0m\u001b[1;32m   2673\u001b[0m \u001b[0;34m\u001b[0m\u001b[0m\n\u001b[1;32m   2674\u001b[0m     \u001b[0;32mdef\u001b[0m \u001b[0m__setattr__\u001b[0m\u001b[0;34m(\u001b[0m\u001b[0mself\u001b[0m\u001b[0;34m,\u001b[0m \u001b[0mname\u001b[0m\u001b[0;34m,\u001b[0m \u001b[0mvalue\u001b[0m\u001b[0;34m)\u001b[0m\u001b[0;34m:\u001b[0m\u001b[0;34m\u001b[0m\u001b[0m\n",
      "\u001b[0;31mAttributeError\u001b[0m: 'DataFrame' object has no attribute 'R'"
     ]
    }
   ],
   "source": [
    "print merged_df.R"
   ]
  },
  {
   "cell_type": "code",
   "execution_count": 28,
   "metadata": {
    "collapsed": false
   },
   "outputs": [
    {
     "name": "stdout",
     "output_type": "stream",
     "text": [
      "        LineupOrder          R\n",
      "0               NaN        NaN\n",
      "1               NaN        NaN\n",
      "2               NaN        NaN\n",
      "3               1.0   3.361490\n",
      "4               2.0  -6.338510\n",
      "5               3.0   6.614435\n",
      "6               NaN        NaN\n",
      "7               4.0   2.414435\n",
      "8               NaN        NaN\n",
      "9               NaN        NaN\n",
      "10              NaN        NaN\n",
      "11              NaN        NaN\n",
      "12              1.0 -13.577401\n",
      "13              NaN        NaN\n",
      "14              NaN        NaN\n",
      "15              2.0  -0.538510\n",
      "16              3.0  -4.873382\n",
      "17              NaN        NaN\n",
      "18              NaN        NaN\n",
      "19              NaN        NaN\n",
      "20              4.0 -10.873382\n",
      "21              NaN        NaN\n",
      "22              NaN        NaN\n",
      "23              5.0   5.214435\n",
      "24              NaN        NaN\n",
      "25              1.0   3.974910\n",
      "26              NaN        NaN\n",
      "27              NaN        NaN\n",
      "28              2.0 -12.763981\n",
      "29              3.0 -15.763981\n",
      "...             ...        ...\n",
      "393565          NaN        NaN\n",
      "393566          3.0 -14.944619\n",
      "393567          NaN        NaN\n",
      "393568          NaN        NaN\n",
      "393569          4.0  -0.460633\n",
      "393570          NaN        NaN\n",
      "393571          5.0   4.425113\n",
      "393572          NaN        NaN\n",
      "393573          NaN        NaN\n",
      "393574          NaN        NaN\n",
      "393575          1.0  -3.048730\n",
      "393576          NaN        NaN\n",
      "393577          2.0  -6.908515\n",
      "393578          NaN        NaN\n",
      "393579          3.0   3.864957\n",
      "393580          NaN        NaN\n",
      "393581          NaN        NaN\n",
      "393582          NaN        NaN\n",
      "393583          NaN        NaN\n",
      "393584          5.0  -7.800102\n",
      "393585          NaN        NaN\n",
      "393586          1.0   2.995517\n",
      "393587          2.0   9.193229\n",
      "393588          3.0  -5.318590\n",
      "393589          4.0  -3.852891\n",
      "393590          NaN        NaN\n",
      "393591          5.0  -1.164212\n",
      "393592          NaN        NaN\n",
      "393593          NaN        NaN\n",
      "393594          NaN        NaN\n",
      "\n",
      "[393595 rows x 2 columns]\n"
     ]
    }
   ],
   "source": [
    "if 'R' in merged_df.columns:\n",
    "    merged_df.drop('R', axis = 1, inplace = True)\n",
    "merged_df = merged_df.merge(df[['Player','Date','R','LineupOrder']], on = ['Player','Date'], how = 'left')"
   ]
  },
  {
   "cell_type": "code",
   "execution_count": 33,
   "metadata": {
    "collapsed": false
   },
   "outputs": [
    {
     "name": "stdout",
     "output_type": "stream",
     "text": [
      "268913\n",
      "212770\n",
      "212770\n"
     ]
    }
   ],
   "source": [
    "print len(merged_df[merged_df.BucketedMinutes > 2])\n",
    "print sum(pd.isnull(merged_df['R']))\n",
    "print sum(pd.isnull(merged_df['LineupOrder']))"
   ]
  },
  {
   "cell_type": "code",
   "execution_count": null,
   "metadata": {
    "collapsed": true
   },
   "outputs": [],
   "source": []
  }
 ],
 "metadata": {
  "anaconda-cloud": {},
  "kernelspec": {
   "display_name": "Python [Root]",
   "language": "python",
   "name": "Python [Root]"
  },
  "language_info": {
   "codemirror_mode": {
    "name": "ipython",
    "version": 2
   },
   "file_extension": ".py",
   "mimetype": "text/x-python",
   "name": "python",
   "nbconvert_exporter": "python",
   "pygments_lexer": "ipython2",
   "version": "2.7.12"
  }
 },
 "nbformat": 4,
 "nbformat_minor": 0
}
