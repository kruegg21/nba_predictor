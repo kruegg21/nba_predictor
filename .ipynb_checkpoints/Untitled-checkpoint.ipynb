{
 "cells": [
  {
   "cell_type": "code",
   "execution_count": 1,
   "metadata": {
    "collapsed": true
   },
   "outputs": [],
   "source": [
    "import pandas as pd\n",
    "import matplot.pyplot as plt"
   ]
  },
  {
   "cell_type": "code",
   "execution_count": 3,
   "metadata": {
    "collapsed": false
   },
   "outputs": [],
   "source": [
    "df = pd.read_csv('data/residuals.csv')"
   ]
  },
  {
   "cell_type": "code",
   "execution_count": 14,
   "metadata": {
    "collapsed": false
   },
   "outputs": [
    {
     "data": {
      "text/plain": [
       "0          3.361490\n",
       "1         -6.338510\n",
       "2          6.614435\n",
       "3          2.414435\n",
       "4        -13.577401\n",
       "5         -0.538510\n",
       "6         -4.873382\n",
       "7        -10.873382\n",
       "8          5.214435\n",
       "9          3.974910\n",
       "10       -12.763981\n",
       "11       -15.763981\n",
       "12       -10.664858\n",
       "13         7.174910\n",
       "14         7.261490\n",
       "15         9.722599\n",
       "16        -5.777401\n",
       "17       -17.057660\n",
       "18        -1.925090\n",
       "19        10.240039\n",
       "20        -6.259961\n",
       "21       -11.025090\n",
       "22       -26.963981\n",
       "23         7.440039\n",
       "24       -14.425090\n",
       "25         8.427859\n",
       "26        -8.559961\n",
       "27         8.540039\n",
       "28         4.527859\n",
       "29         1.736019\n",
       "            ...    \n",
       "180794     0.667596\n",
       "180795    -3.636329\n",
       "180796    -2.992548\n",
       "180797   -13.664924\n",
       "180798    -0.052668\n",
       "180799     0.110507\n",
       "180800     2.963916\n",
       "180801   -10.184032\n",
       "180802    -6.193162\n",
       "180803     7.589523\n",
       "180804     3.998234\n",
       "180805     1.457923\n",
       "180806    -9.658569\n",
       "180807    -7.713117\n",
       "180808     2.560227\n",
       "180809    -2.871394\n",
       "180810     6.897920\n",
       "180811     2.251655\n",
       "180812   -14.944619\n",
       "180813    -0.460633\n",
       "180814     4.425113\n",
       "180815    -3.048730\n",
       "180816    -6.908515\n",
       "180817     3.864957\n",
       "180818    -7.800102\n",
       "180819     2.995517\n",
       "180820     9.193229\n",
       "180821    -5.318590\n",
       "180822    -3.852891\n",
       "180823    -1.164212\n",
       "Name: R, dtype: float64"
      ]
     },
     "execution_count": 14,
     "metadata": {},
     "output_type": "execute_result"
    }
   ],
   "source": [
    "pltdf.R"
   ]
  },
  {
   "cell_type": "code",
   "execution_count": null,
   "metadata": {
    "collapsed": true
   },
   "outputs": [],
   "source": []
  }
 ],
 "metadata": {
  "kernelspec": {
   "display_name": "Python [Root]",
   "language": "python",
   "name": "Python [Root]"
  },
  "language_info": {
   "codemirror_mode": {
    "name": "ipython",
    "version": 2
   },
   "file_extension": ".py",
   "mimetype": "text/x-python",
   "name": "python",
   "nbconvert_exporter": "python",
   "pygments_lexer": "ipython2",
   "version": "2.7.12"
  }
 },
 "nbformat": 4,
 "nbformat_minor": 0
}
