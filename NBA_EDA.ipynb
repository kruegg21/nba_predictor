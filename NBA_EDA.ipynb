{
 "cells": [
  {
   "cell_type": "code",
   "execution_count": null,
   "metadata": {
    "collapsed": false
   },
   "outputs": [],
   "source": [
    "import pandas as pd\n",
    "import matplotlib.pyplot as plt\n",
    "import seaborn\n",
    "from test import *\n",
    "from stat_lists import *\n",
    "from plotting_functions import *\n",
    "%matplotlib inline\n",
    "df = pd.read_csv('Data/merged_data.csv')\n",
    "subset = ''"
   ]
  },
  {
   "cell_type": "code",
   "execution_count": null,
   "metadata": {
    "collapsed": false
   },
   "outputs": [],
   "source": [
    "# Subset data \n",
    "# 1. Subset data to only players who play 18 or more minutes\n",
    "df_over17 = df[df['BucketedMinutes'] > 2]\n",
    "print \"Proportion of data points that player 18 or more: \", (float(len(df_over17)) / len(df))\n",
    "df = df_over17\n",
    "\n",
    "if 'over17minutes' not in subset:\n",
    "    subset += 'over17minutes '"
   ]
  },
  {
   "cell_type": "code",
   "execution_count": null,
   "metadata": {
    "collapsed": false
   },
   "outputs": [],
   "source": [
    "# Display plots for all player averages\n",
    "def player_selection_function(window, key, value):\n",
    "    x = 'Last' + str(window) + 'Average' + key\n",
    "    y = key\n",
    "    return x, y\n",
    "\n",
    "eda_plotting(df, player_rolling_mean_stat_dict, player_selection_function, subset)"
   ]
  },
  {
   "cell_type": "code",
   "execution_count": null,
   "metadata": {
    "collapsed": false,
    "scrolled": false
   },
   "outputs": [],
   "source": [
    "# Display plots for all opponent averages\n",
    "def opponent_selection_function(window, key, value):\n",
    "    # Select our x and y values\n",
    "    y = 'Player' + key[-3:]\n",
    "    x = 'Last' + str(window) + 'Average' + key\n",
    "    if len(key) > 14:\n",
    "        y = 'Player' + key[10:13]\n",
    "    if key[-4:] == 'Pace':\n",
    "        y = 'TeamPace'\n",
    "    return x, y\n",
    "\n",
    "eda_plotting(df, opponent_rolling_mean_stat_dict, opponent_selection_function, subset)"
   ]
  },
  {
   "cell_type": "markdown",
   "metadata": {},
   "source": []
  },
  {
   "cell_type": "code",
   "execution_count": null,
   "metadata": {
    "collapsed": false
   },
   "outputs": [],
   "source": [
    "# Display plots for all team averages\n",
    "def team_selection_function(window, key, value):\n",
    "    y = 'Player' + key[-3:]\n",
    "    x = 'Last' + str(window) + 'Average' + key\n",
    "    if len(key) > 14:\n",
    "        y = 'Player' + key[10:13]\n",
    "    if key[-4:] == 'Pace':\n",
    "        y = 'TeamPace'\n",
    "    return x, y\n",
    "        \n",
    "eda_plotting(df, team_rolling_mean_stat_dict, team_selection_function, subset)"
   ]
  },
  {
   "cell_type": "code",
   "execution_count": null,
   "metadata": {
    "collapsed": false
   },
   "outputs": [],
   "source": [
    "# Shows relationship between our linear model prediction for 'EstimatedPace' and the actual pace\n",
    "x = 'EstimatedPace'\n",
    "y = 'TeamPace'\n",
    "scatter_plot_eda(df, x, y, subset)"
   ]
  },
  {
   "cell_type": "code",
   "execution_count": null,
   "metadata": {
    "collapsed": false,
    "scrolled": true
   },
   "outputs": [],
   "source": [
    "# Determines the optimal way to estimate the number of posssessions a player takes part in\n",
    "print df.columns\n",
    "for stat in main_stat_list:\n",
    "    x = 'EstimatedPlayerPossessions'\n",
    "    y = 'Player' + stat\n",
    "    scatter_plot_eda(df, x, y, subset)"
   ]
  },
  {
   "cell_type": "code",
   "execution_count": null,
   "metadata": {
    "collapsed": false,
    "scrolled": true
   },
   "outputs": [],
   "source": [
    "# Relationship between possession and minute adjusted stats and actual stats\n",
    "\"\"\"\n",
    "PossessionMinuteAdjustedPlayerStat =\n",
    "(Stat / (TeamPossessions * (PlayerMP/TeamMP)) * (EstimatedMinutes / 48) * (EstimatedPossessions)\n",
    "\"\"\"\n",
    "for key, value in player_post_merge_rolling_mean_stat_dict.iteritems():\n",
    "    for window in value:\n",
    "        df['Last' + str(window) + 'Average' + key] = df['Last' + str(window) + 'Average' + key] * df.EstimatedPlayerPossessions\n",
    "        x = 'Last' + str(window) + 'Average' + key\n",
    "        y = 'Player' + key[6:9]\n",
    "        scatter_plot_eda(df, x, y, subset)"
   ]
  }
 ],
 "metadata": {
  "anaconda-cloud": {},
  "kernelspec": {
   "display_name": "Python [Root]",
   "language": "python",
   "name": "Python [Root]"
  },
  "language_info": {
   "codemirror_mode": {
    "name": "ipython",
    "version": 2
   },
   "file_extension": ".py",
   "mimetype": "text/x-python",
   "name": "python",
   "nbconvert_exporter": "python",
   "pygments_lexer": "ipython2",
   "version": "2.7.12"
  }
 },
 "nbformat": 4,
 "nbformat_minor": 0
}
